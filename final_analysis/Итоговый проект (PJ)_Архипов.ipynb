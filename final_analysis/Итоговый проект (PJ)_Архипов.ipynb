{
 "cells": [
  {
   "cell_type": "markdown",
   "metadata": {},
   "source": [
    "# Импорты"
   ]
  },
  {
   "cell_type": "code",
   "execution_count": 1,
   "metadata": {},
   "outputs": [],
   "source": [
    "import pandas as pd\n",
    "import numpy as np\n",
    "import matplotlib.pyplot as plt\n",
    "import seaborn as sns"
   ]
  },
  {
   "cell_type": "markdown",
   "metadata": {},
   "source": [
    "## Подгрузка данных"
   ]
  },
  {
   "cell_type": "code",
   "execution_count": 2,
   "metadata": {},
   "outputs": [
    {
     "data": {
      "text/html": [
       "<div>\n",
       "<style scoped>\n",
       "    .dataframe tbody tr th:only-of-type {\n",
       "        vertical-align: middle;\n",
       "    }\n",
       "\n",
       "    .dataframe tbody tr th {\n",
       "        vertical-align: top;\n",
       "    }\n",
       "\n",
       "    .dataframe thead th {\n",
       "        text-align: right;\n",
       "    }\n",
       "</style>\n",
       "<table border=\"1\" class=\"dataframe\">\n",
       "  <thead>\n",
       "    <tr style=\"text-align: right;\">\n",
       "      <th></th>\n",
       "      <th>Unnamed: 0</th>\n",
       "      <th>user id</th>\n",
       "      <th>test group</th>\n",
       "      <th>converted</th>\n",
       "      <th>total ads</th>\n",
       "      <th>most ads day</th>\n",
       "      <th>most ads hour</th>\n",
       "    </tr>\n",
       "  </thead>\n",
       "  <tbody>\n",
       "    <tr>\n",
       "      <th>0</th>\n",
       "      <td>0</td>\n",
       "      <td>1069124</td>\n",
       "      <td>ad</td>\n",
       "      <td>False</td>\n",
       "      <td>130</td>\n",
       "      <td>Monday</td>\n",
       "      <td>20</td>\n",
       "    </tr>\n",
       "    <tr>\n",
       "      <th>1</th>\n",
       "      <td>1</td>\n",
       "      <td>1119715</td>\n",
       "      <td>ad</td>\n",
       "      <td>False</td>\n",
       "      <td>93</td>\n",
       "      <td>Tuesday</td>\n",
       "      <td>22</td>\n",
       "    </tr>\n",
       "    <tr>\n",
       "      <th>2</th>\n",
       "      <td>2</td>\n",
       "      <td>1144181</td>\n",
       "      <td>ad</td>\n",
       "      <td>False</td>\n",
       "      <td>21</td>\n",
       "      <td>Tuesday</td>\n",
       "      <td>18</td>\n",
       "    </tr>\n",
       "    <tr>\n",
       "      <th>3</th>\n",
       "      <td>3</td>\n",
       "      <td>1435133</td>\n",
       "      <td>ad</td>\n",
       "      <td>False</td>\n",
       "      <td>355</td>\n",
       "      <td>Tuesday</td>\n",
       "      <td>10</td>\n",
       "    </tr>\n",
       "    <tr>\n",
       "      <th>4</th>\n",
       "      <td>4</td>\n",
       "      <td>1015700</td>\n",
       "      <td>ad</td>\n",
       "      <td>False</td>\n",
       "      <td>276</td>\n",
       "      <td>Friday</td>\n",
       "      <td>14</td>\n",
       "    </tr>\n",
       "  </tbody>\n",
       "</table>\n",
       "</div>"
      ],
      "text/plain": [
       "   Unnamed: 0  user id test group  converted  total ads most ads day  \\\n",
       "0           0  1069124         ad      False        130       Monday   \n",
       "1           1  1119715         ad      False         93      Tuesday   \n",
       "2           2  1144181         ad      False         21      Tuesday   \n",
       "3           3  1435133         ad      False        355      Tuesday   \n",
       "4           4  1015700         ad      False        276       Friday   \n",
       "\n",
       "   most ads hour  \n",
       "0             20  \n",
       "1             22  \n",
       "2             18  \n",
       "3             10  \n",
       "4             14  "
      ]
     },
     "execution_count": 2,
     "metadata": {},
     "output_type": "execute_result"
    }
   ],
   "source": [
    "df = pd.read_csv('marketing_AB.csv')\n",
    "df.head()"
   ]
  },
  {
   "cell_type": "markdown",
   "metadata": {},
   "source": [
    "## Посмотр типа данных и содержание каждого столбца"
   ]
  },
  {
   "cell_type": "code",
   "execution_count": 3,
   "metadata": {},
   "outputs": [
    {
     "name": "stdout",
     "output_type": "stream",
     "text": [
      "<class 'pandas.core.frame.DataFrame'>\n",
      "RangeIndex: 588101 entries, 0 to 588100\n",
      "Data columns (total 7 columns):\n",
      " #   Column         Non-Null Count   Dtype \n",
      "---  ------         --------------   ----- \n",
      " 0   Unnamed: 0     588101 non-null  int64 \n",
      " 1   user id        588101 non-null  int64 \n",
      " 2   test group     588101 non-null  object\n",
      " 3   converted      588101 non-null  bool  \n",
      " 4   total ads      588101 non-null  int64 \n",
      " 5   most ads day   588101 non-null  object\n",
      " 6   most ads hour  588101 non-null  int64 \n",
      "dtypes: bool(1), int64(4), object(2)\n",
      "memory usage: 27.5+ MB\n"
     ]
    }
   ],
   "source": [
    "df.info()"
   ]
  },
  {
   "cell_type": "markdown",
   "metadata": {},
   "source": [
    "## Проверка на null"
   ]
  },
  {
   "cell_type": "code",
   "execution_count": 4,
   "metadata": {},
   "outputs": [
    {
     "data": {
      "text/plain": [
       "Unnamed: 0       0\n",
       "user id          0\n",
       "test group       0\n",
       "converted        0\n",
       "total ads        0\n",
       "most ads day     0\n",
       "most ads hour    0\n",
       "dtype: int64"
      ]
     },
     "execution_count": 4,
     "metadata": {},
     "output_type": "execute_result"
    }
   ],
   "source": [
    "df.isnull().sum()"
   ]
  },
  {
   "cell_type": "markdown",
   "metadata": {},
   "source": [
    "## Приведение к типу данных"
   ]
  },
  {
   "cell_type": "code",
   "execution_count": 5,
   "metadata": {},
   "outputs": [],
   "source": [
    "df['test group'] = df['test group'].astype('category')\n",
    "df['most ads day'] = df['most ads day'].astype('category')"
   ]
  },
  {
   "cell_type": "markdown",
   "metadata": {},
   "source": [
    "## Проверка дубпликатов"
   ]
  },
  {
   "cell_type": "code",
   "execution_count": 6,
   "metadata": {},
   "outputs": [
    {
     "data": {
      "text/html": [
       "<div>\n",
       "<style scoped>\n",
       "    .dataframe tbody tr th:only-of-type {\n",
       "        vertical-align: middle;\n",
       "    }\n",
       "\n",
       "    .dataframe tbody tr th {\n",
       "        vertical-align: top;\n",
       "    }\n",
       "\n",
       "    .dataframe thead th {\n",
       "        text-align: right;\n",
       "    }\n",
       "</style>\n",
       "<table border=\"1\" class=\"dataframe\">\n",
       "  <thead>\n",
       "    <tr style=\"text-align: right;\">\n",
       "      <th></th>\n",
       "      <th>Unnamed: 0</th>\n",
       "      <th>user id</th>\n",
       "      <th>test group</th>\n",
       "      <th>converted</th>\n",
       "      <th>total ads</th>\n",
       "      <th>most ads day</th>\n",
       "      <th>most ads hour</th>\n",
       "    </tr>\n",
       "  </thead>\n",
       "  <tbody>\n",
       "  </tbody>\n",
       "</table>\n",
       "</div>"
      ],
      "text/plain": [
       "Empty DataFrame\n",
       "Columns: [Unnamed: 0, user id, test group, converted, total ads, most ads day, most ads hour]\n",
       "Index: []"
      ]
     },
     "execution_count": 6,
     "metadata": {},
     "output_type": "execute_result"
    }
   ],
   "source": [
    "duplicates = df[df.duplicated(subset='user id', keep= False)]\n",
    "if not duplicates.empty:\n",
    "    df = df[~df['user id'].isin(duplicates['user id'])]\n",
    "\n",
    "duplicates"
   ]
  },
  {
   "cell_type": "markdown",
   "metadata": {},
   "source": [
    " Пользователей, оказавшихся в обеих группах нет."
   ]
  },
  {
   "cell_type": "markdown",
   "metadata": {},
   "source": [
    "# Первичный анализ результатов A/B-тестирования"
   ]
  },
  {
   "cell_type": "markdown",
   "metadata": {},
   "source": [
    "## Вспомогательные показатели для контрольной и тестовой групп (количество посещений сайта, суммарное количество совершённых покупок)"
   ]
  },
  {
   "cell_type": "code",
   "execution_count": 7,
   "metadata": {},
   "outputs": [
    {
     "name": "stdout",
     "output_type": "stream",
     "text": [
      "  test group  visits  total_conversions\n",
      "0         ad  564577              14423\n",
      "1        psa   23524                420\n"
     ]
    },
    {
     "name": "stderr",
     "output_type": "stream",
     "text": [
      "C:\\Users\\vvser\\AppData\\Local\\Temp\\ipykernel_68348\\1824790529.py:1: FutureWarning: The default of observed=False is deprecated and will be changed to True in a future version of pandas. Pass observed=False to retain current behavior or observed=True to adopt the future default and silence this warning.\n",
      "  summary = df.groupby('test group').agg(visits=('user id', 'count'), total_conversions=('converted', 'sum')).reset_index()\n"
     ]
    }
   ],
   "source": [
    "summary = df.groupby('test group').agg(visits=('user id', 'count'), total_conversions=('converted', 'sum')).reset_index()\n",
    "print(summary)"
   ]
  },
  {
   "cell_type": "markdown",
   "metadata": {},
   "source": [
    "### Вывод"
   ]
  },
  {
   "cell_type": "markdown",
   "metadata": {},
   "source": [
    "1. Количество посещений группы Ad значительно превышает количество посещений группы PSA. \n",
    "    Это может указывать на неравномерность в трафике, что может повлиять на результаты A/B-тестирования и, следовательно, на выводы о конверсии и эффективности каждой страницы.\n",
    "    Классы несбалансированы.\n",
    "2. Группа Ad имеет существенно большее количество посещений, почти в 24 раза больше, чем у группы PSA. Это может привести к искажению результатов, так как вероятное влияние трафика может исказить выводы.\n",
    "\n",
    "\n",
    "\n",
    "\n"
   ]
  },
  {
   "cell_type": "markdown",
   "metadata": {},
   "source": [
    "##  Ключевые показатели"
   ]
  },
  {
   "cell_type": "markdown",
   "metadata": {},
   "source": [
    "### Конверсия"
   ]
  },
  {
   "cell_type": "code",
   "execution_count": 8,
   "metadata": {},
   "outputs": [
    {
     "data": {
      "text/plain": [
       "0    0.025547\n",
       "1    0.017854\n",
       "Name: conversion_rate, dtype: float64"
      ]
     },
     "execution_count": 8,
     "metadata": {},
     "output_type": "execute_result"
    }
   ],
   "source": [
    "summary['conversion_rate'] = summary['total_conversions'] / summary['visits']\n",
    "summary['conversion_rate']"
   ]
  },
  {
   "cell_type": "markdown",
   "metadata": {},
   "source": [
    "### Cреднее количество рекламы, увиденной пользователем"
   ]
  },
  {
   "cell_type": "code",
   "execution_count": 9,
   "metadata": {},
   "outputs": [
    {
     "name": "stderr",
     "output_type": "stream",
     "text": [
      "C:\\Users\\vvser\\AppData\\Local\\Temp\\ipykernel_68348\\1820980334.py:1: FutureWarning: The default of observed=False is deprecated and will be changed to True in a future version of pandas. Pass observed=False to retain current behavior or observed=True to adopt the future default and silence this warning.\n",
      "  summary['everage_add'] = df.groupby('test group')['total ads'].mean().values\n"
     ]
    },
    {
     "data": {
      "text/plain": [
       "0    24.823365\n",
       "1    24.761138\n",
       "Name: everage_add, dtype: float64"
      ]
     },
     "execution_count": 9,
     "metadata": {},
     "output_type": "execute_result"
    }
   ],
   "source": [
    "summary['everage_add'] = df.groupby('test group')['total ads'].mean().values\n",
    "summary['everage_add'] "
   ]
  },
  {
   "cell_type": "markdown",
   "metadata": {},
   "source": [
    "### Выводы"
   ]
  },
  {
   "cell_type": "code",
   "execution_count": 10,
   "metadata": {},
   "outputs": [
    {
     "name": "stdout",
     "output_type": "stream",
     "text": [
      "  test group  visits  total_conversions  conversion_rate  everage_add\n",
      "0         ad  564577              14423         0.025547    24.823365\n",
      "1        psa   23524                420         0.017854    24.761138\n"
     ]
    }
   ],
   "source": [
    "print(summary)"
   ]
  },
  {
   "cell_type": "markdown",
   "metadata": {},
   "source": [
    "1. Вариант A(AD) значительно эффективнее по показателю конверсии по сравнению с вариантом B(PSA). \n",
    "    Выше уровень конверсии указывает на то, что в группе A больше пользователей, совершивших желаемое действие (например, покупка или подписка), по сравнению с группой B.\n",
    "2. В обеих группах среднее количество увиденной рекламы (average_add) примерно одинаковое: \n",
    "    у группы A — 24.82, у группы B — 24.76. Этот показатель практически не отличается и, следовательно, не может служить объяснением различий в конверсии между группами.\n",
    "3. Группа A (ad) получила 564577 посещений, тогда как группа B (psa) — всего 23524 посещения. \n",
    "    Это значительное различие в количестве посещений может указывать на то, что группа A испытала более широкий охват, что также может повлиять на результаты конверсии."
   ]
  },
  {
   "cell_type": "markdown",
   "metadata": {},
   "source": [
    "# Cтатистический анализ результатов A/B-тестирования"
   ]
  },
  {
   "cell_type": "markdown",
   "metadata": {},
   "source": [
    "## Статистические гипотезы: "
   ]
  },
  {
   "cell_type": "markdown",
   "metadata": {},
   "source": [
    "### 1. Вопрос: Будет ли кампания успешной?"
   ]
  },
  {
   "cell_type": "markdown",
   "metadata": {},
   "source": [
    "* Нулевая гипотеза (H0): Кампания не успешна (уровень конверсии не превышает определенного порога, например, средний уровень конверсии для предыдущих кампаний).\n",
    "* Альтернативная гипотеза (H1): Кампания успешна (уровень конверсии превышает установленный порог).\n",
    "\n",
    "Выбор статистического теста:\n",
    "\n",
    "Для проверки этой гипотезы можно использовать тест пропорций (например, Z-тест для пропорций), чтобы сравнить уровень конверсии текущей кампании с заданным порогом. "
   ]
  },
  {
   "cell_type": "markdown",
   "metadata": {},
   "source": [
    "### 2. Вопрос: Если кампания была успешной, насколько этот успех можно объяснить рекламой?"
   ]
  },
  {
   "cell_type": "markdown",
   "metadata": {},
   "source": [
    "* Нулевая гипотеза (H0): Уровень конверсии не зависит от влияния рекламы (различия в уровнях конверсии между группами, например, между целевой (рекламой) и контрольной группами равны).\n",
    "* Альтернативная гипотеза (H1): Уровень конверсии зависит от влияния рекламы (различия в уровнях конверсии между группами значимы).\n",
    "\n",
    "Выбор статистического теста:\n",
    "\n",
    "Для проверки этой гипотезы можно использовать T-тест для независимых выборок (если данные нормально распределены и дисперсии равны) для сравнения уровней конверсии двух групп (рекламная и контрольная)."
   ]
  },
  {
   "cell_type": "markdown",
   "metadata": {},
   "source": [
    "## Z-ТЕСТ ДЛЯ ПРОПОРЦИЙ"
   ]
  },
  {
   "cell_type": "code",
   "execution_count": 11,
   "metadata": {},
   "outputs": [],
   "source": [
    "from statsmodels.stats.proportion import proportions_ztest"
   ]
  },
  {
   "cell_type": "code",
   "execution_count": 12,
   "metadata": {},
   "outputs": [
    {
     "name": "stdout",
     "output_type": "stream",
     "text": [
      "Z test statistics 7.3700781265454145 p_val 1.7052807161559727e-13\n"
     ]
    }
   ],
   "source": [
    "count = summary['total_conversions'].values\n",
    "nops = summary['visits'].values\n",
    "\n",
    "stat, p_val = proportions_ztest(count, nops)\n",
    "print(f'Z test statistics {stat} p_val {p_val}')"
   ]
  },
  {
   "cell_type": "markdown",
   "metadata": {},
   "source": [
    "Z-статистика: Значение Z-статистики 7.37 указывает на то, что разница между конверсиями в двух группах (например, тестовой и контрольной) значительна. Это значение значительно превышает стандартные критические значения (обычно ±1.96 для уровня значимости 5%), что говорит о том, что наблюдаемая разница не является случайной. p-значение: Очень низкое p-значение (1.70e-13) говорит о том, что вероятность того, что такая разница могла бы возникнуть случайно при условии, что нулевая гипотеза верна (то есть конверсии в обеих группах одинаковы), практически равна нулю. Обычно, если p-значение меньше 0.05, мы отвергаем нулевую гипотезу. Таким образом, можно сделать вывод, что: Статистически значимая разница: Конверсии в группах различаются статистически значимо. Выводы для бизнеса: Если одна из групп имеет значительно более высокую конверсию, это может свидетельствовать о том, что изменения (например, реклама или дизайн) положительно сказались на эффективности кампании. Эти результаты позволяют утверждать, что реклама или изменения в тестируемой группе действительно оказали влияние на конверсии."
   ]
  },
  {
   "cell_type": "markdown",
   "metadata": {},
   "source": [
    "## Определение статистических разниц с помщью аппарата статистических тестов"
   ]
  },
  {
   "cell_type": "code",
   "execution_count": 13,
   "metadata": {},
   "outputs": [
    {
     "name": "stdout",
     "output_type": "stream",
     "text": [
      "ttset statistics 0.21391499762385457, p-val 0.8306134186810267\n"
     ]
    }
   ],
   "source": [
    "from scipy import stats\n",
    "\n",
    "group_a =  df[df['test group'] ==  'ad']['total ads']\n",
    "group_b =  df[df['test group'] ==  'psa']['total ads']\n",
    "\n",
    "t_stat, p_val = stats.ttest_ind(group_a,group_b)\n",
    "print(f'ttset statistics {t_stat}, p-val {p_val}')"
   ]
  },
  {
   "cell_type": "markdown",
   "metadata": {},
   "source": [
    "На основании полученных результатов мы не можем отвергнуть нулевую гипотезу (H0). Это значит, что данные не предоставляют статистически значимых доказательств того, что реклама влияет на уровень конверсии.\n",
    "Вероятнее всего, рекламные усилия не приводят к заметному увеличению конверсии по сравнению с контрольной группой. Возможно, стоит рассмотреть другие маркетинговые стратегии или проводить дальнейшие исследования с более масштабными данными или альтернативными методами анализа."
   ]
  },
  {
   "cell_type": "markdown",
   "metadata": {},
   "source": [
    "## Результаты статистических тестов с 95 % доверительные интевалами"
   ]
  },
  {
   "cell_type": "code",
   "execution_count": 14,
   "metadata": {},
   "outputs": [
    {
     "name": "stdout",
     "output_type": "stream",
     "text": [
      "95% for group A (0.0251349995427061, 0.025958119730661394), 95% for group B (0.016161914715211324, 0.019546298173753137)\n"
     ]
    }
   ],
   "source": [
    "import statsmodels.api as sm\n",
    "\n",
    "conversion_a = summary.loc[summary['test group'] ==  'ad', 'conversion_rate'].values[0]\n",
    "conversion_b = summary.loc[summary['test group'] ==  'psa', 'conversion_rate'].values[0]\n",
    "\n",
    "conf_int_a = sm.stats.proportion_confint(count[0], nops[0], alpha=0.05)\n",
    "conf_int_b = sm.stats.proportion_confint(count[1], nops[1], alpha=0.05)\n",
    "\n",
    "print(f'95% for group A {conf_int_a}, 95% for group B {conf_int_b}')"
   ]
  },
  {
   "cell_type": "markdown",
   "metadata": {},
   "source": [
    "Группа A демонстрирует значительно более высокие конверсии по сравнению с группой B, и результаты тестирования показывают, что различия между группами являются статистически значимыми. Это может иметь важные практические последствия для принятия решений о распределении ресурсов на рекламу."
   ]
  }
 ],
 "metadata": {
  "kernelspec": {
   "display_name": "Python 3 (ipykernel)",
   "language": "python",
   "name": "python3"
  },
  "language_info": {
   "codemirror_mode": {
    "name": "ipython",
    "version": 3
   },
   "file_extension": ".py",
   "mimetype": "text/x-python",
   "name": "python",
   "nbconvert_exporter": "python",
   "pygments_lexer": "ipython3",
   "version": "3.11.7"
  }
 },
 "nbformat": 4,
 "nbformat_minor": 4
}
